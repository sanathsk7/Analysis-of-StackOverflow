{
 "cells": [
  {
   "cell_type": "markdown",
   "metadata": {
    "slideshow": {
     "slide_type": "slide"
    }
   },
   "source": [
    " <img src=\"so_logo.png\">\n",
    " \n",
    "# Analysis of Stack Overflow"
   ]
  },
  {
   "cell_type": "code",
   "execution_count": 1,
   "metadata": {
    "collapsed": true,
    "slideshow": {
     "slide_type": "fragment"
    }
   },
   "outputs": [],
   "source": [
    "## Author -> Sanath Shivaswamy\n",
    "## ID -> W1166731"
   ]
  },
  {
   "cell_type": "code",
   "execution_count": 3,
   "metadata": {
    "collapsed": false,
    "scrolled": true,
    "slideshow": {
     "slide_type": "skip"
    }
   },
   "outputs": [
    {
     "name": "stdout",
     "output_type": "stream",
     "text": [
      "All Packages Installed\n"
     ]
    }
   ],
   "source": [
    "# List of Packages\n",
    "import pandas as pd\n",
    "import numpy as np\n",
    "import random\n",
    "import sklearn\n",
    "import rake\n",
    "import operator\n",
    "import time\n",
    "import math\n",
    "import itertools\n",
    "import nltk\n",
    "import re\n",
    "import matplotlib.pyplot as plt\n",
    "import plotly\n",
    "import plotly.plotly as py\n",
    "import plotly.graph_objs as go\n",
    "from bs4 import BeautifulSoup\n",
    "from IPython.display import display, HTML\n",
    "from plotly.tools import FigureFactory as FF\n",
    "from collections import defaultdict, OrderedDict\n",
    "#plotly.tools.set_credentials_file(username='sshivaswamy', api_key='lGR8CEhhJmHISOzPz8uV')\n",
    "plotly.tools.set_credentials_file(username='surbhi.gupta', api_key='Yg3oYlMgdEUNrJMqEuXy')\n",
    "print \"All Packages Installed\""
   ]
  },
  {
   "cell_type": "markdown",
   "metadata": {
    "slideshow": {
     "slide_type": "slide"
    }
   },
   "source": [
    " <img src=\"so-icon.png\" style=\"float:left\">\n",
    " ## Problem Statement\n",
    "    1. Predicting Tags for StackOverflow Posts\n",
    "    2. Analyze Factors that influence Reponse Time"
   ]
  },
  {
   "cell_type": "markdown",
   "metadata": {
    "slideshow": {
     "slide_type": "slide"
    }
   },
   "source": [
    "  <img src=\"so-icon.png\" style=\"float:left\">\n",
    "  ## Application to our Analysis\n",
    "    1. Tag Recommendation to Users and Groups based on their interests\n",
    "    2. Tag Cleanup Systems - Mistags are identified and corrected\n",
    "    \n"
   ]
  },
  {
   "cell_type": "markdown",
   "metadata": {
    "slideshow": {
     "slide_type": "slide"
    }
   },
   "source": [
    "<img src=\"data_explorer.png\" style=\"float:left\">"
   ]
  },
  {
   "cell_type": "markdown",
   "metadata": {
    "slideshow": {
     "slide_type": "slide"
    }
   },
   "source": [
    "## StackOverflow Dictionary\n",
    "1. PostType\n",
    "2. AcceptedAnswer\n",
    "3. Title\n",
    "4. Tags\n",
    "5. Body\n",
    "6. AnswerCount\n",
    "7. View Count\n",
    "8. Comments Count\n",
    "9. Reputation"
   ]
  },
  {
   "cell_type": "code",
   "execution_count": 10,
   "metadata": {
    "collapsed": true,
    "slideshow": {
     "slide_type": "slide"
    }
   },
   "outputs": [],
   "source": [
    "posts = pd.read_csv(\"/Users/sanath.shivaswamy/Desktop/StackOverflow/Posts.csv\")\n",
    "users = pd.read_csv(\"/Users/sanath.shivaswamy/Desktop/StackOverflow/Users.csv\")\n",
    "badges = pd.read_csv(\"/Users/sanath.shivaswamy/Desktop/StackOverflow/Badges.csv\")\n",
    "comments = pd.read_csv(\"/Users/sanath.shivaswamy/Desktop/StackOverflow/Comments.csv\")\n",
    "poststypes = pd.read_csv(\"/Users/sanath.shivaswamy/Desktop/StackOverflow/PostsTypes.csv\")\n",
    "tags = pd.read_csv(\"/Users/sanath.shivaswamy/Desktop/StackOverflow/Tags.csv\")"
   ]
  },
  {
   "cell_type": "code",
   "execution_count": 5,
   "metadata": {
    "collapsed": false,
    "slideshow": {
     "slide_type": "fragment"
    }
   },
   "outputs": [
    {
     "name": "stdout",
     "output_type": "stream",
     "text": [
      "Posts =  (50000, 22)\n",
      "Users =  (50000, 15)\n",
      "Badges =  (50000, 6)\n",
      "Comments =  (50000, 7)\n",
      "Posttypes =  (8, 2)\n",
      "Tags =  (47207, 5)\n"
     ]
    }
   ],
   "source": [
    "print \"Posts = \", posts.shape\n",
    "print \"Users = \", users.shape\n",
    "print \"Badges = \", badges.shape\n",
    "print \"Comments = \", comments.shape\n",
    "print \"Posttypes = \", poststypes.shape\n",
    "print \"Tags = \", tags.shape"
   ]
  },
  {
   "cell_type": "code",
   "execution_count": 8,
   "metadata": {
    "collapsed": false,
    "slideshow": {
     "slide_type": "slide"
    }
   },
   "outputs": [
    {
     "name": "stdout",
     "output_type": "stream",
     "text": [
      "Index([u'Id', u'PostTypeId', u'AcceptedAnswerId', u'ParentId', u'CreationDate',\n",
      "       u'DeletionDate', u'Score', u'ViewCount', u'Body', u'OwnerUserId',\n",
      "       u'OwnerDisplayName', u'LastEditorUserId', u'LastEditorDisplayName',\n",
      "       u'LastEditDate', u'LastActivityDate', u'Title', u'Tags', u'AnswerCount',\n",
      "       u'CommentCount', u'FavoriteCount', u'ClosedDate',\n",
      "       u'CommunityOwnedDate'],\n",
      "      dtype='object')\n"
     ]
    },
    {
     "data": {
      "text/html": [
       "<div>\n",
       "<table border=\"1\" class=\"dataframe\">\n",
       "  <thead>\n",
       "    <tr style=\"text-align: right;\">\n",
       "      <th></th>\n",
       "      <th>Id</th>\n",
       "      <th>PostTypeId</th>\n",
       "      <th>AcceptedAnswerId</th>\n",
       "      <th>ParentId</th>\n",
       "      <th>CreationDate</th>\n",
       "      <th>DeletionDate</th>\n",
       "      <th>Score</th>\n",
       "      <th>ViewCount</th>\n",
       "      <th>Body</th>\n",
       "      <th>OwnerUserId</th>\n",
       "      <th>...</th>\n",
       "      <th>LastEditorDisplayName</th>\n",
       "      <th>LastEditDate</th>\n",
       "      <th>LastActivityDate</th>\n",
       "      <th>Title</th>\n",
       "      <th>Tags</th>\n",
       "      <th>AnswerCount</th>\n",
       "      <th>CommentCount</th>\n",
       "      <th>FavoriteCount</th>\n",
       "      <th>ClosedDate</th>\n",
       "      <th>CommunityOwnedDate</th>\n",
       "    </tr>\n",
       "  </thead>\n",
       "  <tbody>\n",
       "    <tr>\n",
       "      <th>0</th>\n",
       "      <td>32719536</td>\n",
       "      <td>1</td>\n",
       "      <td>NaN</td>\n",
       "      <td>NaN</td>\n",
       "      <td>2015-09-22 14:25:31</td>\n",
       "      <td>NaN</td>\n",
       "      <td>6</td>\n",
       "      <td>165.0</td>\n",
       "      <td>&lt;p&gt;This code is correct C++:&lt;/p&gt;\\n\\n&lt;pre&gt;&lt;code...</td>\n",
       "      <td>193789.0</td>\n",
       "      <td>...</td>\n",
       "      <td>NaN</td>\n",
       "      <td>2015-09-22 20:10:46</td>\n",
       "      <td>2015-09-22 20:10:46</td>\n",
       "      <td>Why is namespace std not required for legacy C...</td>\n",
       "      <td>&lt;c++&gt;</td>\n",
       "      <td>1.0</td>\n",
       "      <td>6</td>\n",
       "      <td>1.0</td>\n",
       "      <td>NaN</td>\n",
       "      <td>NaN</td>\n",
       "    </tr>\n",
       "    <tr>\n",
       "      <th>1</th>\n",
       "      <td>32719537</td>\n",
       "      <td>2</td>\n",
       "      <td>NaN</td>\n",
       "      <td>32718671.0</td>\n",
       "      <td>2015-09-22 14:25:32</td>\n",
       "      <td>NaN</td>\n",
       "      <td>2</td>\n",
       "      <td>NaN</td>\n",
       "      <td>&lt;p&gt;can you try &lt;/p&gt;\\n\\n&lt;pre&gt;&lt;code&gt;  $(\"#_LOAD\"...</td>\n",
       "      <td>4537150.0</td>\n",
       "      <td>...</td>\n",
       "      <td>NaN</td>\n",
       "      <td>NaN</td>\n",
       "      <td>2015-09-22 14:25:32</td>\n",
       "      <td>NaN</td>\n",
       "      <td>NaN</td>\n",
       "      <td>NaN</td>\n",
       "      <td>3</td>\n",
       "      <td>NaN</td>\n",
       "      <td>NaN</td>\n",
       "      <td>NaN</td>\n",
       "    </tr>\n",
       "    <tr>\n",
       "      <th>2</th>\n",
       "      <td>32719538</td>\n",
       "      <td>2</td>\n",
       "      <td>NaN</td>\n",
       "      <td>32719399.0</td>\n",
       "      <td>2015-09-22 14:25:41</td>\n",
       "      <td>NaN</td>\n",
       "      <td>0</td>\n",
       "      <td>NaN</td>\n",
       "      <td>&lt;p&gt;You should cast your str var to a bytes var...</td>\n",
       "      <td>3501059.0</td>\n",
       "      <td>...</td>\n",
       "      <td>NaN</td>\n",
       "      <td>2015-09-23 10:59:50</td>\n",
       "      <td>2015-09-23 10:59:50</td>\n",
       "      <td>NaN</td>\n",
       "      <td>NaN</td>\n",
       "      <td>NaN</td>\n",
       "      <td>3</td>\n",
       "      <td>NaN</td>\n",
       "      <td>NaN</td>\n",
       "      <td>NaN</td>\n",
       "    </tr>\n",
       "  </tbody>\n",
       "</table>\n",
       "<p>3 rows × 22 columns</p>\n",
       "</div>"
      ],
      "text/plain": [
       "         Id  PostTypeId  AcceptedAnswerId    ParentId         CreationDate  \\\n",
       "0  32719536           1               NaN         NaN  2015-09-22 14:25:31   \n",
       "1  32719537           2               NaN  32718671.0  2015-09-22 14:25:32   \n",
       "2  32719538           2               NaN  32719399.0  2015-09-22 14:25:41   \n",
       "\n",
       "   DeletionDate  Score  ViewCount  \\\n",
       "0           NaN      6      165.0   \n",
       "1           NaN      2        NaN   \n",
       "2           NaN      0        NaN   \n",
       "\n",
       "                                                Body  OwnerUserId  \\\n",
       "0  <p>This code is correct C++:</p>\\n\\n<pre><code...     193789.0   \n",
       "1  <p>can you try </p>\\n\\n<pre><code>  $(\"#_LOAD\"...    4537150.0   \n",
       "2  <p>You should cast your str var to a bytes var...    3501059.0   \n",
       "\n",
       "          ...         LastEditorDisplayName         LastEditDate  \\\n",
       "0         ...                           NaN  2015-09-22 20:10:46   \n",
       "1         ...                           NaN                  NaN   \n",
       "2         ...                           NaN  2015-09-23 10:59:50   \n",
       "\n",
       "      LastActivityDate                                              Title  \\\n",
       "0  2015-09-22 20:10:46  Why is namespace std not required for legacy C...   \n",
       "1  2015-09-22 14:25:32                                                NaN   \n",
       "2  2015-09-23 10:59:50                                                NaN   \n",
       "\n",
       "    Tags AnswerCount CommentCount  FavoriteCount  ClosedDate  \\\n",
       "0  <c++>         1.0            6            1.0         NaN   \n",
       "1    NaN         NaN            3            NaN         NaN   \n",
       "2    NaN         NaN            3            NaN         NaN   \n",
       "\n",
       "   CommunityOwnedDate  \n",
       "0                 NaN  \n",
       "1                 NaN  \n",
       "2                 NaN  \n",
       "\n",
       "[3 rows x 22 columns]"
      ]
     },
     "execution_count": 8,
     "metadata": {},
     "output_type": "execute_result"
    }
   ],
   "source": [
    "print posts.columns\n",
    "posts.head(3)"
   ]
  },
  {
   "cell_type": "code",
   "execution_count": 9,
   "metadata": {
    "collapsed": false,
    "slideshow": {
     "slide_type": "subslide"
    }
   },
   "outputs": [
    {
     "name": "stdout",
     "output_type": "stream",
     "text": [
      "Index([u'Id', u'Reputation', u'CreationDate', u'DisplayName',\n",
      "       u'LastAccessDate', u'WebsiteUrl', u'Location', u'AboutMe', u'Views',\n",
      "       u'UpVotes', u'DownVotes', u'ProfileImageUrl', u'EmailHash', u'Age',\n",
      "       u'AccountId'],\n",
      "      dtype='object')\n"
     ]
    },
    {
     "data": {
      "text/html": [
       "<div>\n",
       "<table border=\"1\" class=\"dataframe\">\n",
       "  <thead>\n",
       "    <tr style=\"text-align: right;\">\n",
       "      <th></th>\n",
       "      <th>Id</th>\n",
       "      <th>Reputation</th>\n",
       "      <th>CreationDate</th>\n",
       "      <th>DisplayName</th>\n",
       "      <th>LastAccessDate</th>\n",
       "      <th>WebsiteUrl</th>\n",
       "      <th>Location</th>\n",
       "      <th>AboutMe</th>\n",
       "      <th>Views</th>\n",
       "      <th>UpVotes</th>\n",
       "      <th>DownVotes</th>\n",
       "      <th>ProfileImageUrl</th>\n",
       "      <th>EmailHash</th>\n",
       "      <th>Age</th>\n",
       "      <th>AccountId</th>\n",
       "    </tr>\n",
       "  </thead>\n",
       "  <tbody>\n",
       "    <tr>\n",
       "      <th>0</th>\n",
       "      <td>3904458</td>\n",
       "      <td>1</td>\n",
       "      <td>2014-08-03 18:13:34</td>\n",
       "      <td>Iliya</td>\n",
       "      <td>2014-09-18 05:45:30</td>\n",
       "      <td>NaN</td>\n",
       "      <td>NaN</td>\n",
       "      <td>NaN</td>\n",
       "      <td>0</td>\n",
       "      <td>0</td>\n",
       "      <td>0</td>\n",
       "      <td>https://www.gravatar.com/avatar/?s=128&amp;d=ident...</td>\n",
       "      <td>NaN</td>\n",
       "      <td>NaN</td>\n",
       "      <td>4838749</td>\n",
       "    </tr>\n",
       "    <tr>\n",
       "      <th>1</th>\n",
       "      <td>3904459</td>\n",
       "      <td>1</td>\n",
       "      <td>2014-08-03 18:13:49</td>\n",
       "      <td>Nguyễn Huy Quyết</td>\n",
       "      <td>2016-11-02 03:39:51</td>\n",
       "      <td>NaN</td>\n",
       "      <td>NaN</td>\n",
       "      <td>NaN</td>\n",
       "      <td>0</td>\n",
       "      <td>0</td>\n",
       "      <td>0</td>\n",
       "      <td>https://graph.facebook.com/100001678204894/pic...</td>\n",
       "      <td>NaN</td>\n",
       "      <td>NaN</td>\n",
       "      <td>4838750</td>\n",
       "    </tr>\n",
       "    <tr>\n",
       "      <th>2</th>\n",
       "      <td>3904460</td>\n",
       "      <td>1</td>\n",
       "      <td>2014-08-03 18:13:58</td>\n",
       "      <td>user3904460</td>\n",
       "      <td>2014-08-03 18:13:58</td>\n",
       "      <td>NaN</td>\n",
       "      <td>NaN</td>\n",
       "      <td>NaN</td>\n",
       "      <td>0</td>\n",
       "      <td>0</td>\n",
       "      <td>0</td>\n",
       "      <td>https://www.gravatar.com/avatar/?s=128&amp;d=ident...</td>\n",
       "      <td>NaN</td>\n",
       "      <td>NaN</td>\n",
       "      <td>4838751</td>\n",
       "    </tr>\n",
       "  </tbody>\n",
       "</table>\n",
       "</div>"
      ],
      "text/plain": [
       "        Id  Reputation         CreationDate       DisplayName  \\\n",
       "0  3904458           1  2014-08-03 18:13:34             Iliya   \n",
       "1  3904459           1  2014-08-03 18:13:49  Nguyễn Huy Quyết   \n",
       "2  3904460           1  2014-08-03 18:13:58       user3904460   \n",
       "\n",
       "        LastAccessDate WebsiteUrl Location AboutMe  Views  UpVotes  DownVotes  \\\n",
       "0  2014-09-18 05:45:30        NaN      NaN     NaN      0        0          0   \n",
       "1  2016-11-02 03:39:51        NaN      NaN     NaN      0        0          0   \n",
       "2  2014-08-03 18:13:58        NaN      NaN     NaN      0        0          0   \n",
       "\n",
       "                                     ProfileImageUrl  EmailHash  Age  \\\n",
       "0  https://www.gravatar.com/avatar/?s=128&d=ident...        NaN  NaN   \n",
       "1  https://graph.facebook.com/100001678204894/pic...        NaN  NaN   \n",
       "2  https://www.gravatar.com/avatar/?s=128&d=ident...        NaN  NaN   \n",
       "\n",
       "   AccountId  \n",
       "0    4838749  \n",
       "1    4838750  \n",
       "2    4838751  "
      ]
     },
     "execution_count": 9,
     "metadata": {},
     "output_type": "execute_result"
    }
   ],
   "source": [
    "print users.columns\n",
    "users.head(3)"
   ]
  },
  {
   "cell_type": "markdown",
   "metadata": {
    "slideshow": {
     "slide_type": "skip"
    }
   },
   "source": [
    "Picking only those posts that have an accepted answer"
   ]
  },
  {
   "cell_type": "code",
   "execution_count": 11,
   "metadata": {
    "collapsed": false,
    "slideshow": {
     "slide_type": "slide"
    }
   },
   "outputs": [
    {
     "name": "stdout",
     "output_type": "stream",
     "text": [
      "(3207, 44)\n"
     ]
    }
   ],
   "source": [
    "#### PostypeId = 1 --> Question, 2 -> Answer\n",
    "questions = posts.merge(posts, left_on='AcceptedAnswerId', right_on='Id', how='inner') \n",
    "print questions.shape"
   ]
  },
  {
   "cell_type": "code",
   "execution_count": 12,
   "metadata": {
    "collapsed": false,
    "slideshow": {
     "slide_type": "fragment"
    }
   },
   "outputs": [
    {
     "data": {
      "text/html": [
       "<div>\n",
       "<table border=\"1\" class=\"dataframe\">\n",
       "  <thead>\n",
       "    <tr style=\"text-align: right;\">\n",
       "      <th></th>\n",
       "      <th>Id</th>\n",
       "      <th>Body</th>\n",
       "      <th>Title</th>\n",
       "      <th>Tags</th>\n",
       "    </tr>\n",
       "  </thead>\n",
       "  <tbody>\n",
       "    <tr>\n",
       "      <th>0</th>\n",
       "      <td>32719590</td>\n",
       "      <td>&lt;p&gt;How do I bring back a second name field fro...</td>\n",
       "      <td>SQL - Return field from sub sub query</td>\n",
       "      <td>&lt;sql&gt;&lt;sql-server&gt;&lt;join&gt;&lt;subquery&gt;</td>\n",
       "    </tr>\n",
       "    <tr>\n",
       "      <th>1</th>\n",
       "      <td>32719623</td>\n",
       "      <td>&lt;p&gt;I have a JavaScript function where I change...</td>\n",
       "      <td>jQuery does not detect current class</td>\n",
       "      <td>&lt;javascript&gt;&lt;jquery&gt;&lt;css&gt;</td>\n",
       "    </tr>\n",
       "    <tr>\n",
       "      <th>2</th>\n",
       "      <td>17537590</td>\n",
       "      <td>&lt;p&gt;When trying to output an element of a vecto...</td>\n",
       "      <td>Symbol Not Found when Outputting Vector</td>\n",
       "      <td>&lt;c++&gt;</td>\n",
       "    </tr>\n",
       "  </tbody>\n",
       "</table>\n",
       "</div>"
      ],
      "text/plain": [
       "         Id                                               Body  \\\n",
       "0  32719590  <p>How do I bring back a second name field fro...   \n",
       "1  32719623  <p>I have a JavaScript function where I change...   \n",
       "2  17537590  <p>When trying to output an element of a vecto...   \n",
       "\n",
       "                                     Title                               Tags  \n",
       "0    SQL - Return field from sub sub query  <sql><sql-server><join><subquery>  \n",
       "1     jQuery does not detect current class          <javascript><jquery><css>  \n",
       "2  Symbol Not Found when Outputting Vector                              <c++>  "
      ]
     },
     "execution_count": 12,
     "metadata": {},
     "output_type": "execute_result"
    }
   ],
   "source": [
    "questions_text = questions.ix[:,[0,8,15,16]]\n",
    "questions_text.columns = [\"Id\",\"Body\",\"Title\",\"Tags\"]\n",
    "questions_text.head(3)"
   ]
  },
  {
   "cell_type": "markdown",
   "metadata": {
    "slideshow": {
     "slide_type": "slide"
    }
   },
   "source": [
    "# Cleaning Text\n",
    "1. Remove everything inside brackets\n",
    "2. Take only nouns and remove verbs and adjectives\n",
    "3. Remove special characters"
   ]
  },
  {
   "cell_type": "code",
   "execution_count": 21,
   "metadata": {
    "collapsed": false,
    "slideshow": {
     "slide_type": "fragment"
    }
   },
   "outputs": [
    {
     "name": "stdout",
     "output_type": "stream",
     "text": [
      "<p>I have a JavaScript function where I change the class of a button (<code>&lt;a href=\"...\" class=\"button\" id=\"placeOrdersButton\"&gt;Button&lt;/a&gt;</code>):</p>\n",
      "\n",
      "<pre><code>function showOrderButtonActive(isActive) {\n",
      "        if (isActive) {\n",
      "            $(\"#placeOrdersButton\").addClass(\"button\");\n",
      "            $(\"#placeOrdersButton\").removeClass(\"buttonDisabled\");\n",
      "        } else {\n",
      "            $(\"#placeOrdersButton\").removeClass(\"button\");\n",
      "            $(\"#placeOrdersButton\").addClass(\"buttonDisabled\");\n",
      "        }\n",
      "</code></pre>\n",
      "\n",
      "<p>I also have a JavaScript function to show a loading panel when clicking on enabled buttons:</p>\n",
      "\n",
      "<pre><code>$(\"a:not([target='_blank'], [class='buttonDisabled'])\").on(\"click\", function (e) {\n",
      "        window.LoadingPanel.Show();\n",
      "    });\n",
      "</code></pre>\n",
      "\n",
      "<p>But when my JavaScript function changes the class to <code>buttonDisabled</code> it still shows the loading panel.</p>\n",
      "\n",
      "<p>Why does jQuery not detect the current class name and how can I do this the best and most concise way?</p>\n",
      "\n"
     ]
    }
   ],
   "source": [
    "print questions_text.loc[1,\"Body\"]"
   ]
  },
  {
   "cell_type": "code",
   "execution_count": 22,
   "metadata": {
    "collapsed": true,
    "slideshow": {
     "slide_type": "skip"
    }
   },
   "outputs": [],
   "source": [
    "stop_words = {'a', \"a's\", 'able', 'about', 'above', 'according', 'accordingly','across', 'actually', 'after', 'afterwards', 'again', 'against',\n",
    "              \"ain't\", 'all', 'allow', 'allows', 'almost', 'alone', 'along','already', 'also', 'although', 'always', 'am', 'among', 'amongst',\n",
    "              'an', 'and', 'another', 'any', 'anybody', 'anyhow', 'anyone','anything', 'anyway', 'anyways', 'anywhere', 'apart', 'appear',\n",
    "              'appreciate', 'appropriate', 'are', \"aren't\", 'around', 'as','aside', 'ask', 'asking', 'associated', 'at', 'available', 'away',\n",
    "              'awfully', 'b', 'be', 'became', 'because', 'become', 'becomes','becoming', 'been', 'before', 'beforehand', 'behind', 'being',\n",
    "              'believe', 'below', 'beside', 'besides', 'best', 'better','between', 'beyond', 'both', 'brief', 'but', 'by', \"c'mon\",\n",
    "              \"c's\", 'came', 'can', \"can't\", 'cannot', 'cant', 'cause','causes', 'certain', 'certainly', 'changes', 'clearly', 'co',\n",
    "              'com', 'come', 'comes', 'concerning', 'consequently', 'consider','considering', 'contain', 'containing', 'contains',\n",
    "              'corresponding', 'could', \"couldn't\", 'course', 'currently', 'd','definitely', 'described', 'despite', 'did', \"didn't\",\n",
    "              'different', 'do', 'does', \"doesn't\", 'doing', \"don't\", 'done','down', 'downwards', 'during', 'e', 'each', 'edu', 'eg', 'eight',\n",
    "              'either', 'else', 'elsewhere', 'enough', 'entirely', 'especially','et', 'etc', 'even', 'ever', 'every', 'everybody', 'everyone',\n",
    "              'everything', 'everywhere', 'ex', 'exactly', 'example', 'except','f', 'far', 'few', 'fifth', 'first', 'five', 'followed',\n",
    "              'following', 'follows', 'for', 'former', 'formerly', 'forth','four', 'from', 'further', 'furthermore', 'g', 'get', 'gets',\n",
    "              'getting', 'given', 'gives', 'go', 'goes', 'going', 'gone', 'got','gotten', 'greetings', 'h', 'had', \"hadn't\", 'happens', 'hardly',\n",
    "              'has', \"hasn't\", 'have', \"haven't\", 'having', 'he', \"he's\",'hello', 'help', 'hence', 'her', 'here', \"here's\", 'hereafter',\n",
    "              'hereby', 'herein', 'hereupon', 'hers', 'herself', 'hi', 'him','himself', 'his', 'hither', 'hopefully', 'how', 'howbeit',\n",
    "              'however', 'i', \"i'd\", \"i'll\", \"i'm\", \"i've\", 'ie', 'if','ignored', 'immediate', 'in', 'inasmuch', 'inc', 'indeed',\n",
    "              'indicate', 'indicated', 'indicates', 'inner', 'insofar','instead', 'into', 'inward', 'is', \"isn't\", 'it', \"it'd\", \"it'll\",\n",
    "              \"it's\", 'its', 'itself', 'j', 'just', 'k', 'keep', 'keeps','kept', 'know', 'knows', 'known', 'l', 'last', 'lately', 'later',\n",
    "              'latter', 'latterly', 'least', 'less', 'lest', 'let', \"let's\",'like', 'liked', 'likely', 'little', 'look', 'looking', 'looks',\n",
    "              'ltd', 'm', 'mainly', 'many', 'may', 'maybe', 'me', 'mean','meanwhile', 'merely', 'might', 'more', 'moreover', 'most',\n",
    "              'mostly', 'much', 'must', 'my', 'myself', 'n', 'name', 'namely','nd', 'near', 'nearly', 'necessary', 'need', 'needs', 'neither',\n",
    "              'never', 'nevertheless', 'new', 'next', 'nine', 'no', 'nobody','non', 'none', 'noone', 'nor', 'normally', 'not', 'nothing',\n",
    "              'novel', 'now', 'nowhere', 'o', 'obviously', 'of', 'off', 'often','oh', 'ok', 'okay', 'old', 'on', 'once', 'one', 'ones', 'only',\n",
    "              'onto', 'or', 'other', 'others', 'otherwise', 'ought', 'our','ours', 'ourselves', 'out', 'outside', 'over', 'overall', 'own',\n",
    "              'p', 'particular', 'particularly', 'per', 'perhaps', 'placed','please', 'plus', 'possible', 'presumably', 'probably',\n",
    "              'provides', 'q', 'que', 'quite', 'qv', 'rather', 'rd', 're','really', 'reasonably', 'regarding', 'regardless', 'regards',\n",
    "              'relatively', 'respectively', 'right', 's', 'said', 'same', 'saw','say', 'saying', 'says', 'second', 'secondly', 'see', 'seeing',\n",
    "              'seem', 'seemed', 'seeming', 'seems', 'seen', 'self', 'selves','sensible', 'sent', 'serious', 'seriously', 'seven', 'several',\n",
    "              'shall', 'she', 'should', \"shouldn't\", 'since', 'six', 'so','some', 'somebody', 'somehow', 'someone', 'something', 'sometime',\n",
    "              'sometimes', 'somewhat', 'somewhere', 'soon', 'sorry','specified', 'specify', 'specifying', 'still', 'sub', 'such',\n",
    "              'sup', 'sure', 't', \"t's\", 'take', 'taken', 'tell', 'tends', 'th','than', 'thank', 'thanks', 'thanx', 'that', \"that's\", 'thats',\n",
    "              'the', 'their', 'theirs', 'them', 'themselves', 'then', 'thence','there', \"there's\", 'thereafter', 'thereby', 'therefore',\n",
    "              'therein', 'theres', 'thereupon', 'these', 'they', \"they'd\",\"they'll\", \"they're\", \"they've\", 'think', 'third', 'this',\n",
    "              'thorough', 'thoroughly', 'those', 'though', 'three', 'through','throughout', 'thru', 'thus', 'to', 'together', 'too', 'took',\n",
    "              'toward', 'towards', 'tried', 'tries', 'truly', 'try', 'trying','twice', 'two', 'u', 'un', 'under', 'unfortunately', 'unless',\n",
    "              'unlikely', 'until', 'unto', 'up', 'upon', 'us', 'use', 'used','useful', 'uses', 'using', 'usually', 'uucp', 'v', 'value',\n",
    "              'various', 'very', 'via', 'viz', 'vs', 'w', 'want', 'wants','was', \"wasn't\", 'way', 'we', \"we'd\", \"we'll\", \"we're\", \"we've\",\n",
    "              'welcome', 'well', 'went', 'were', \"weren't\", 'what', \"what's\",'whatever', 'when', 'whence', 'whenever', 'where', \"where's\",\n",
    "              'whereafter', 'whereas', 'whereby', 'wherein', 'whereupon','wherever', 'whether', 'which', 'while', 'whither', 'who',\n",
    "              \"who's\", 'whoever', 'whole', 'whom', 'whose', 'why', 'will','willing', 'wish', 'with', 'within', 'without', \"won't\", 'wonder',\n",
    "              'would', 'would', \"wouldn't\", 'x', 'y', 'yes', 'yet', 'you',\"you'd\", \"you'll\", \"you're\", \"you've\", 'your', 'yours',\n",
    "              'yourself', 'yourselves', 'z', 'zero'}"
   ]
  },
  {
   "cell_type": "code",
   "execution_count": 23,
   "metadata": {
    "collapsed": false,
    "slideshow": {
     "slide_type": "skip"
    }
   },
   "outputs": [],
   "source": [
    "# Remove HTML tags and clean the body\n",
    "def cleanhtml(raw_html):\n",
    "    text = \"\"\n",
    "    text = raw_html.lower()\n",
    "    text = BeautifulSoup(text, \"html\").text # to remove html tags\n",
    "    #cleanr = re.compile('<.*?>')\n",
    "    #text = re.sub(cleanr, '', text)\n",
    "    #cleanr = re.compile('{.*}')\n",
    "    #text = re.sub(r'\\([^)]*\\)', '', text)\n",
    "    #text = re.sub(cleanr, '', text)\n",
    "    cleanr = re.compile(\"[^\\w']|_\") #Removing special characters\n",
    "    text = re.sub(cleanr, ' ', text)\n",
    "    result = ''.join([i for i in text if not i.isdigit()]) #Removing numbers\n",
    "    return remove_stop_words(result)"
   ]
  },
  {
   "cell_type": "code",
   "execution_count": 24,
   "metadata": {
    "collapsed": false,
    "slideshow": {
     "slide_type": "skip"
    }
   },
   "outputs": [],
   "source": [
    "cachedStopWords = stop_words\n",
    "def remove_stop_words(sentence):\n",
    "    word_list = sentence.split()\n",
    "    new_list = []\n",
    "    for word in word_list:\n",
    "        word = word.lower()\n",
    "        if word == \"c\" or word == \"r\":\n",
    "            new_list.append(word)\n",
    "        if len(word) <= 10 and len(word) > 2:\n",
    "            new_list.append(word)\n",
    "    new_list = [word for word in new_list if word not in cachedStopWords]\n",
    "    return remove_extra_words(new_list)"
   ]
  },
  {
   "cell_type": "code",
   "execution_count": 25,
   "metadata": {
    "collapsed": false,
    "slideshow": {
     "slide_type": "skip"
    }
   },
   "outputs": [],
   "source": [
    "extra_words = [\"function\",\"class\",\"endl\",\"dont\",\"don't\",\"id\",\"work\",\"rethink\",\"solutions\",\"college\",\"show\",\"see\",\"others\",\"skills\",\"colors\",\"name\",\"id\",\"good\",\"hope\",\"knowledge\",\"multiple\",\"curiosity\",\"good\",\"help\",\"pretty\",\"question\",\"sense\",\"lessons\",\"forum\",\"moon\",\"use\",\"need\",\"guys\",\"stuff\",\"way\",\"changes\",\"int\",\"class\",\"float\",\"make\",\"variables\",\"with\",\"will\",\"didn't\",\"values\",\"know\",\"page\",\"comments\",\"clear\",\"think\",\"year\",\"indicating\",\"using\",\"making\",\"allow\",\"allowing\",\"double\",\"compare\",\"value\",\"var\",\"vars\",\"id\",\"didn'\",\"put\",\"change\",\"input\",\"switch\",\"case\",\"if\",\"else\"]\n",
    "def remove_extra_words(word_list):\n",
    "    clean_text=\"\"\n",
    "    word_list = list(set(word_list))\n",
    "    for word in word_list:\n",
    "        clean_text = ' '.join([word for word in word_list if word not in extra_words]) \n",
    "    #return get_nouns(nouns_text)\n",
    "    return clean_text"
   ]
  },
  {
   "cell_type": "code",
   "execution_count": 26,
   "metadata": {
    "collapsed": true,
    "slideshow": {
     "slide_type": "skip"
    }
   },
   "outputs": [],
   "source": [
    "# Take only nouns from the text\n",
    "# Using this function reduced the accuracy\n",
    "def get_nouns(sentence):\n",
    "    tokens = nltk.word_tokenize(sentence)\n",
    "    tagged = nltk.pos_tag(tokens)\n",
    "    nouns=[]\n",
    "    downcased = []\n",
    "    joined = \"\"\n",
    "    for word,pos in tagged:\n",
    "        if pos == 'NN' or pos == 'NNP' or pos == 'NNS' or pos == 'NNPS':\n",
    "            nouns.append(word)\n",
    "    downcased = [x.lower() for x in nouns]\n",
    "    joined = \" \".join(downcased).encode('utf-8')    \n",
    "    return joined"
   ]
  },
  {
   "cell_type": "code",
   "execution_count": 27,
   "metadata": {
    "collapsed": false,
    "scrolled": true,
    "slideshow": {
     "slide_type": "skip"
    }
   },
   "outputs": [
    {
     "name": "stderr",
     "output_type": "stream",
     "text": [
      "/Users/sanath.shivaswamy/Desktop/datascience2016fall/venv/lib/python2.7/site-packages/bs4/__init__.py:181: UserWarning:\n",
      "\n",
      "No parser was explicitly specified, so I'm using the best available HTML parser for this system (\"lxml\"). This usually isn't a problem, but if you run this code on another system, or in a different virtual environment, it may use a different parser and behave differently.\n",
      "\n",
      "The code that caused this warning is on line 162 of the file /System/Library/Frameworks/Python.framework/Versions/2.7/lib/python2.7/runpy.py. To get rid of this warning, change code that looks like this:\n",
      "\n",
      " BeautifulSoup([your markup])\n",
      "\n",
      "to this:\n",
      "\n",
      " BeautifulSoup([your markup], \"lxml\")\n",
      "\n",
      "\n",
      "/Users/sanath.shivaswamy/Desktop/datascience2016fall/venv/lib/python2.7/site-packages/pandas/core/indexing.py:476: SettingWithCopyWarning:\n",
      "\n",
      "\n",
      "A value is trying to be set on a copy of a slice from a DataFrame.\n",
      "Try using .loc[row_indexer,col_indexer] = value instead\n",
      "\n",
      "See the caveats in the documentation: http://pandas.pydata.org/pandas-docs/stable/indexing.html#indexing-view-versus-copy\n",
      "\n"
     ]
    },
    {
     "name": "stdout",
     "output_type": "stream",
     "text": [
      "Text cleaning Complete\n"
     ]
    }
   ],
   "source": [
    "for index,row in questions_text.iterrows():\n",
    "    temp = questions_text.loc[index,\"Body\"] \n",
    "    temp = cleanhtml(temp)\n",
    "    questions_text.loc[index,\"Body\"] = temp\n",
    "print \"Text cleaning Complete\""
   ]
  },
  {
   "cell_type": "markdown",
   "metadata": {
    "slideshow": {
     "slide_type": "slide"
    }
   },
   "source": [
    "# Predict StackOverflow Tags\n",
    " Different Approaches:\n",
    "\n",
    "    1. RAKE (Rapid Automatic Keyword Extraction)\n",
    "    \n",
    "    2. TF-IDF (Inverse Document Frequency)\n",
    "    \n",
    "    3. Simple Word Frequency Model\n",
    "    "
   ]
  },
  {
   "cell_type": "markdown",
   "metadata": {
    "slideshow": {
     "slide_type": "slide"
    }
   },
   "source": [
    "## 1st Approach: RAKE  (Rapid Automatic Keyword Extraction)"
   ]
  },
  {
   "cell_type": "code",
   "execution_count": 99,
   "metadata": {
    "collapsed": false,
    "slideshow": {
     "slide_type": "fragment"
    }
   },
   "outputs": [
    {
     "data": {
      "text/html": [
       "<iframe id=\"igraph\" scrolling=\"no\" style=\"border:none;\" seamless=\"seamless\" src=\"https://plot.ly/~surbhi.gupta/24.embed\" height=\"230px\" width=\"100%\"></iframe>"
      ],
      "text/plain": [
       "<plotly.tools.PlotlyDisplay object>"
      ]
     },
     "execution_count": 99,
     "metadata": {},
     "output_type": "execute_result"
    }
   ],
   "source": [
    "rake_object = rake.Rake(\"/Users/sanath.shivaswamy/Desktop/StackOverflow/SmartStoplist.txt\", 1, 1, 1)\n",
    "result_table = pd.DataFrame()\n",
    "for i in range(5):\n",
    "    text = questions_text.loc[i].Title\n",
    "    text = text + questions_text.loc[i].Body\n",
    "    predicted_column = rake_object.run(text)\n",
    "    prediction_list = []\n",
    "    prediction_list.append(predicted_column)\n",
    "    result_table.loc[i,\"Predicted\"] = prediction_list\n",
    "    result_table.loc[i,\"Actual\"] = questions_text.loc[i].Tags\n",
    "table = FF.create_table(result_table)\n",
    "py.iplot(table)"
   ]
  },
  {
   "cell_type": "code",
   "execution_count": 29,
   "metadata": {
    "collapsed": false,
    "slideshow": {
     "slide_type": "skip"
    }
   },
   "outputs": [],
   "source": [
    "def tag_accuracy(column):\n",
    "    True_Positive = 0\n",
    "    False_Negative = 0\n",
    "    Total = 0\n",
    "    # Creating a Rake object\n",
    "    rake_object = rake.Rake(\"/Users/sanath.shivaswamy/Desktop/StackOverflow/SmartStoplist.txt\", 3, 3, 1)\n",
    "\n",
    "    for index,row in questions_text.iterrows():\n",
    "        Total += 1\n",
    "        temp=[]\n",
    "        if column == \"Both\":\n",
    "            text = questions_text.loc[index].Title\n",
    "            text = text.decode('utf-8')\n",
    "            text = text + questions_text.loc[index].Body\n",
    "            candidates = rake_object.run(text)\n",
    "        elif column == \"Title\":\n",
    "            candidates = rake_object.run(questions_text.loc[index].Title)\n",
    "        elif column == \"Body\":\n",
    "            candidates = rake_object.run(questions_text.loc[index].Body)\n",
    "        tag_candidates = [key[0] for key in candidates]\n",
    "        if len(tag_candidates) == 0:\n",
    "            tag_candidates.append(\"none\")\n",
    "        tag_present = False\n",
    "        for tag in tag_candidates:\n",
    "            if tag in questions_text.loc[index].Tags:\n",
    "                tag_present = True\n",
    "        if tag_present:\n",
    "            True_Positive += 1\n",
    "        else:\n",
    "            False_Negative += 1\n",
    "\n",
    "    return True_Positive,False_Negative"
   ]
  },
  {
   "cell_type": "code",
   "execution_count": 30,
   "metadata": {
    "collapsed": false,
    "slideshow": {
     "slide_type": "slide"
    }
   },
   "outputs": [
    {
     "name": "stdout",
     "output_type": "stream",
     "text": [
      "TP =  1264\n",
      "FN =  1943\n",
      "Accuracy = 0.394137823511\n"
     ]
    }
   ],
   "source": [
    "Title_TP,Title_FN = tag_accuracy(\"Title\")\n",
    "Accuracy = float(Title_TP) / float(Title_TP + Title_FN)\n",
    "print \"TP = \", Title_TP\n",
    "print \"FN = \", Title_FN\n",
    "print \"Accuracy =\" , Accuracy"
   ]
  },
  {
   "cell_type": "code",
   "execution_count": 31,
   "metadata": {
    "collapsed": false,
    "slideshow": {
     "slide_type": "fragment"
    }
   },
   "outputs": [
    {
     "name": "stdout",
     "output_type": "stream",
     "text": [
      "TP =  50\n",
      "FN =  3157\n",
      "Accuracy = 0.0155908949174\n"
     ]
    }
   ],
   "source": [
    "Body_TP,Body_FN = tag_accuracy(\"Body\")\n",
    "Accuracy = float(Body_TP) / float(Body_TP + Body_FN)\n",
    "print \"TP = \", Body_TP\n",
    "print \"FN = \", Body_FN\n",
    "print \"Accuracy =\" , Accuracy"
   ]
  },
  {
   "cell_type": "code",
   "execution_count": 32,
   "metadata": {
    "collapsed": false,
    "slideshow": {
     "slide_type": "fragment"
    }
   },
   "outputs": [
    {
     "name": "stdout",
     "output_type": "stream",
     "text": [
      "TP =  978\n",
      "FN =  2229\n",
      "Accuracy = 0.304957904584\n"
     ]
    }
   ],
   "source": [
    "Both_TP,Both_FN = tag_accuracy(\"Both\")\n",
    "Accuracy = float(Both_TP) / float(Both_TP + Both_FN)\n",
    "print \"TP = \", Both_TP\n",
    "print \"FN = \", Both_FN\n",
    "print \"Accuracy =\" , Accuracy"
   ]
  },
  {
   "cell_type": "code",
   "execution_count": 71,
   "metadata": {
    "collapsed": false,
    "scrolled": false,
    "slideshow": {
     "slide_type": "skip"
    }
   },
   "outputs": [],
   "source": [
    "# True Positive and False Negative charts for Title and Description based Tag Prediction\n",
    "import plotly.plotly as py\n",
    "import plotly.graph_objs as go\n",
    "\n",
    "trace1 = go.Bar(\n",
    "    y=['Title & Body', 'Body', 'Title'],\n",
    "    x=[Both_TP, Body_TP, Title_TP],\n",
    "    name='True Positive',\n",
    "    orientation = 'h',\n",
    "    marker = dict(\n",
    "        color = 'rgba(255, 0, 0, 0.4)',\n",
    "        line = dict(\n",
    "            color = 'rgba(246, 78, 139, 1.0)',\n",
    "            width = 3)\n",
    "    )\n",
    ")\n",
    "trace2 = go.Bar(\n",
    "    y=['Title & Body', 'Body', 'Title'],\n",
    "    x=[Both_FN, Body_FN, Title_FN],\n",
    "    name='False Negative',\n",
    "    orientation = 'h',\n",
    "    marker = dict(\n",
    "        color = 'rgba(58, 71, 80, 0.6)',\n",
    "        line = dict(\n",
    "            color = 'rgba(58, 71, 80, 1.0)',\n",
    "            width = 3)\n",
    "    )\n",
    ")\n",
    "\n",
    "data = [trace1, trace2]\n",
    "layout = go.Layout(\n",
    "    barmode='stack'\n",
    ")\n",
    "\n",
    "fig = go.Figure(data=data, layout=layout)"
   ]
  },
  {
   "cell_type": "code",
   "execution_count": 72,
   "metadata": {
    "collapsed": false,
    "slideshow": {
     "slide_type": "slide"
    }
   },
   "outputs": [
    {
     "data": {
      "text/html": [
       "<iframe id=\"igraph\" scrolling=\"no\" style=\"border:none;\" seamless=\"seamless\" src=\"https://plot.ly/~surbhi.gupta/16.embed\" height=\"525px\" width=\"100%\"></iframe>"
      ],
      "text/plain": [
       "<plotly.tools.PlotlyDisplay object>"
      ]
     },
     "execution_count": 72,
     "metadata": {},
     "output_type": "execute_result"
    }
   ],
   "source": [
    "py.iplot(fig)"
   ]
  },
  {
   "cell_type": "markdown",
   "metadata": {
    "slideshow": {
     "slide_type": "slide"
    }
   },
   "source": [
    "## 2nd Approach: TF-IDF (Inverse Document Frequency)"
   ]
  },
  {
   "cell_type": "markdown",
   "metadata": {
    "slideshow": {
     "slide_type": "fragment"
    }
   },
   "source": [
    "#### TF(t) : \n",
    "(No of times term t appears in a doc) / (Total no of terms in the doc)"
   ]
  },
  {
   "cell_type": "markdown",
   "metadata": {
    "slideshow": {
     "slide_type": "fragment"
    }
   },
   "source": [
    "#### IDF(t) : \n",
    "log_e(Total no of documents / No of documents with term t)"
   ]
  },
  {
   "cell_type": "code",
   "execution_count": 34,
   "metadata": {
    "collapsed": false,
    "slideshow": {
     "slide_type": "skip"
    }
   },
   "outputs": [],
   "source": [
    "def process_text(doc, idf, text):\n",
    "    tf = OrderedDict()\n",
    "    word_count = 0.\n",
    "    for word in text.split():\n",
    "        word = word.lower()\n",
    "        if word not in stop_words and word.isalpha():\n",
    "            if word not in tf:\n",
    "                tf[word] = 0\n",
    "            tf[word] += 1\n",
    "            idf[word].add(doc)\n",
    "            word_count += 1.\n",
    "    for word in tf:\n",
    "        tf[word] = tf[word] / word_count\n",
    "    return tf, word_count\n",
    "\n",
    "docs = []\n",
    "# Calculate TF and IDF per document\n",
    "idf = defaultdict(set)\n",
    "tf = {}\n",
    "word_counts = defaultdict(float)\n",
    "for index,row in questions_text.iterrows():\n",
    "    doc = int(row[\"Id\"])\n",
    "    docs.append(doc)\n",
    "    text = \"\"\n",
    "    text = questions_text.loc[index].Title + ' ' \n",
    "    text = text.decode('utf-8')\n",
    "    text = text + questions_text.loc[index].Body\n",
    "    tf[doc], word_counts[doc] = process_text(doc, idf, text)\n",
    "# Calculate TF-IDF\n",
    "nr_docs = len(docs)\n",
    "for doc in docs:\n",
    "    for word in tf[doc]:\n",
    "        tf[doc][word] *= math.log(nr_docs / len(idf[word]))\n",
    "        \n",
    "# Making predictions\n",
    "True_positives = 0\n",
    "False_negatives = 0\n",
    "result_table = pd.DataFrame()\n",
    "counter = 0\n",
    "for doc in docs:\n",
    "    # Sort words with frequency from high to low.\n",
    "    pred_tags = sorted(tf[doc], key=tf[doc].get, reverse=True)[:3]\n",
    "    result_table.loc[counter,\"Predicted\"] = \" ,\".join(sorted(pred_tags))\n",
    "    result_table.loc[counter,\"Actual\"] = list(questions_text[(questions_text[\"Id\"]==doc)][\"Tags\"])\n",
    "    counter += 1\n",
    "    present = False\n",
    "    for tag in pred_tags:\n",
    "        if tag in str(questions_text[(questions_text[\"Id\"]==doc)][\"Tags\"]):\n",
    "            present = True\n",
    "    if present:\n",
    "        True_positives += 1\n",
    "    else:\n",
    "        False_negatives += 1"
   ]
  },
  {
   "cell_type": "code",
   "execution_count": 35,
   "metadata": {
    "collapsed": false,
    "slideshow": {
     "slide_type": "slide"
    }
   },
   "outputs": [
    {
     "name": "stdout",
     "output_type": "stream",
     "text": [
      "TP =  1327\n",
      "FN =  1880\n",
      "Accuracy =  0.413782351107\n"
     ]
    }
   ],
   "source": [
    "print \"TP = \",True_positives\n",
    "print \"FN = \",False_negatives\n",
    "Accuracy = float(True_positives) / float(True_positives + False_negatives)\n",
    "print \"Accuracy = \",Accuracy"
   ]
  },
  {
   "cell_type": "code",
   "execution_count": 36,
   "metadata": {
    "collapsed": false,
    "slideshow": {
     "slide_type": "fragment"
    }
   },
   "outputs": [
    {
     "data": {
      "text/html": [
       "<iframe id=\"igraph\" scrolling=\"no\" style=\"border:none;\" seamless=\"seamless\" src=\"https://plot.ly/~surbhi.gupta/8.embed\" height=\"230px\" width=\"100%\"></iframe>"
      ],
      "text/plain": [
       "<plotly.tools.PlotlyDisplay object>"
      ]
     },
     "execution_count": 36,
     "metadata": {},
     "output_type": "execute_result"
    }
   ],
   "source": [
    "table = FF.create_table(result_table[50:55])\n",
    "py.iplot(table)"
   ]
  },
  {
   "cell_type": "markdown",
   "metadata": {
    "slideshow": {
     "slide_type": "slide"
    }
   },
   "source": [
    "## 3rd Approach: Word Frequency Model"
   ]
  },
  {
   "cell_type": "code",
   "execution_count": 37,
   "metadata": {
    "collapsed": false,
    "slideshow": {
     "slide_type": "skip"
    }
   },
   "outputs": [],
   "source": [
    "def process_text(doc, text):\n",
    "    tf = OrderedDict()\n",
    "    word_count = 0.\n",
    "    for word in text.split():\n",
    "        word = word.lower()\n",
    "        if word not in stop_words and word.isalpha():\n",
    "            if word not in tf:\n",
    "                tf[word] = 0\n",
    "            tf[word] += 1\n",
    "            word_count += 1.\n",
    "    for word in tf:\n",
    "        tf[word] = tf[word] / word_count\n",
    "    return tf, word_count\n",
    "\n",
    "docs = []\n",
    "# Calculate TF per document\n",
    "idf = defaultdict(set)\n",
    "tf = {}\n",
    "word_counts = defaultdict(float)\n",
    "for index,row in questions_text.iterrows():\n",
    "    doc = int(row[\"Id\"])\n",
    "    docs.append(doc)\n",
    "    text = \"\"\n",
    "    text = questions_text.loc[index].Title + ' ' \n",
    "    text = text.decode('utf-8')\n",
    "    text = text + questions_text.loc[index].Body\n",
    "    tf[doc], word_counts[doc] = process_text(doc, text)\n",
    "    \n",
    "# Making predictions\n",
    "True_positives = 0\n",
    "False_negatives = 0\n",
    "result_table = pd.DataFrame()\n",
    "counter = 0\n",
    "for doc in docs:\n",
    "    # Sort words with frequency from high to low.\n",
    "    pred_tags = sorted(tf[doc], key=tf[doc].get, reverse=True)[:3]\n",
    "    result_table.loc[counter,\"Predicted\"] = \" ,\".join(sorted(pred_tags))\n",
    "    result_table.loc[counter,\"Actual\"] = list(questions_text[(questions_text[\"Id\"]==doc)][\"Tags\"])\n",
    "    counter += 1\n",
    "    present = False\n",
    "    for tag in pred_tags:\n",
    "        if tag in str(questions_text[(questions_text[\"Id\"]==doc)][\"Tags\"]):\n",
    "            present = True\n",
    "    if present:\n",
    "        True_positives += 1\n",
    "    else:\n",
    "        False_negatives += 1"
   ]
  },
  {
   "cell_type": "code",
   "execution_count": 38,
   "metadata": {
    "collapsed": false,
    "slideshow": {
     "slide_type": "slide"
    }
   },
   "outputs": [
    {
     "name": "stdout",
     "output_type": "stream",
     "text": [
      "TP =  1984\n",
      "FN =  1223\n",
      "Accuracy =  0.618646710321\n"
     ]
    }
   ],
   "source": [
    "print \"TP = \",True_positives\n",
    "print \"FN = \",False_negatives\n",
    "Accuracy = float(True_positives) / float(True_positives + False_negatives)\n",
    "print \"Accuracy = \",Accuracy"
   ]
  },
  {
   "cell_type": "code",
   "execution_count": 110,
   "metadata": {
    "collapsed": false,
    "slideshow": {
     "slide_type": "fragment"
    }
   },
   "outputs": [
    {
     "data": {
      "text/html": [
       "<iframe id=\"igraph\" scrolling=\"no\" style=\"border:none;\" seamless=\"seamless\" src=\"https://plot.ly/~surbhi.gupta/2.embed\" height=\"230px\" width=\"100%\"></iframe>"
      ],
      "text/plain": [
       "<plotly.tools.PlotlyDisplay object>"
      ]
     },
     "execution_count": 110,
     "metadata": {},
     "output_type": "execute_result"
    }
   ],
   "source": [
    "table = FF.create_table(result_table[:5])\n",
    "py.iplot(table)"
   ]
  },
  {
   "cell_type": "markdown",
   "metadata": {
    "slideshow": {
     "slide_type": "slide"
    }
   },
   "source": [
    "## Factors that Influence Response Time of the Post "
   ]
  },
  {
   "cell_type": "code",
   "execution_count": 39,
   "metadata": {
    "collapsed": true,
    "slideshow": {
     "slide_type": "skip"
    }
   },
   "outputs": [],
   "source": [
    "temp_questions = questions.copy()\n",
    "for index,row in temp_questions.iterrows():\n",
    "    q_time = temp_questions.loc[index,\"CreationDate_x\"] \n",
    "    temp_questions.loc[index,\"CreationDate_x\"] = time.mktime(time.strptime(q_time, \"%Y-%m-%d %H:%M:%S\"));\n",
    "    a_time = temp_questions.loc[index,\"CreationDate_y\"] \n",
    "    temp_questions.loc[index,\"CreationDate_y\"] = time.mktime(time.strptime(a_time, \"%Y-%m-%d %H:%M:%S\"));\n",
    "    diff = temp_questions.loc[index,\"CreationDate_y\"] - temp_questions.loc[index,\"CreationDate_x\"]\n",
    "    mins = float(diff)/60\n",
    "    hours = float(mins)/60\n",
    "    temp_questions.loc[index,\"Response_Time\"] = hours"
   ]
  },
  {
   "cell_type": "code",
   "execution_count": 41,
   "metadata": {
    "collapsed": false,
    "slideshow": {
     "slide_type": "slide"
    }
   },
   "outputs": [
    {
     "data": {
      "text/html": [
       "<div>\n",
       "<table border=\"1\" class=\"dataframe\">\n",
       "  <thead>\n",
       "    <tr style=\"text-align: right;\">\n",
       "      <th></th>\n",
       "      <th>Id</th>\n",
       "      <th>q_score</th>\n",
       "      <th>view_count</th>\n",
       "      <th>answer_count</th>\n",
       "      <th>comment_count</th>\n",
       "      <th>response_time</th>\n",
       "    </tr>\n",
       "  </thead>\n",
       "  <tbody>\n",
       "    <tr>\n",
       "      <th>0</th>\n",
       "      <td>32719590</td>\n",
       "      <td>0</td>\n",
       "      <td>45.0</td>\n",
       "      <td>1.0</td>\n",
       "      <td>1</td>\n",
       "      <td>0.042500</td>\n",
       "    </tr>\n",
       "    <tr>\n",
       "      <th>1</th>\n",
       "      <td>32719623</td>\n",
       "      <td>0</td>\n",
       "      <td>80.0</td>\n",
       "      <td>1.0</td>\n",
       "      <td>1</td>\n",
       "      <td>0.078056</td>\n",
       "    </tr>\n",
       "    <tr>\n",
       "      <th>2</th>\n",
       "      <td>17537590</td>\n",
       "      <td>2</td>\n",
       "      <td>59.0</td>\n",
       "      <td>1.0</td>\n",
       "      <td>4</td>\n",
       "      <td>0.082500</td>\n",
       "    </tr>\n",
       "    <tr>\n",
       "      <th>3</th>\n",
       "      <td>17537613</td>\n",
       "      <td>9</td>\n",
       "      <td>3233.0</td>\n",
       "      <td>1.0</td>\n",
       "      <td>0</td>\n",
       "      <td>0.045278</td>\n",
       "    </tr>\n",
       "    <tr>\n",
       "      <th>4</th>\n",
       "      <td>17537620</td>\n",
       "      <td>0</td>\n",
       "      <td>455.0</td>\n",
       "      <td>1.0</td>\n",
       "      <td>0</td>\n",
       "      <td>0.087500</td>\n",
       "    </tr>\n",
       "  </tbody>\n",
       "</table>\n",
       "</div>"
      ],
      "text/plain": [
       "         Id  q_score  view_count  answer_count  comment_count  response_time\n",
       "0  32719590        0        45.0           1.0              1       0.042500\n",
       "1  32719623        0        80.0           1.0              1       0.078056\n",
       "2  17537590        2        59.0           1.0              4       0.082500\n",
       "3  17537613        9      3233.0           1.0              0       0.045278\n",
       "4  17537620        0       455.0           1.0              0       0.087500"
      ]
     },
     "execution_count": 41,
     "metadata": {},
     "output_type": "execute_result"
    }
   ],
   "source": [
    "analyze_data = temp_questions.ix[:,[0,6,7,17,18,44]]\n",
    "analyze_data.columns = [\"Id\",\"q_score\",\"view_count\",\"answer_count\",\"comment_count\",\"response_time\"]\n",
    "analyze_data.head()"
   ]
  },
  {
   "cell_type": "code",
   "execution_count": 42,
   "metadata": {
    "collapsed": false,
    "slideshow": {
     "slide_type": "fragment"
    }
   },
   "outputs": [
    {
     "name": "stdout",
     "output_type": "stream",
     "text": [
      "Average Response Time =  0.755346897412 hours\n"
     ]
    }
   ],
   "source": [
    "print \"Average Response Time = \",analyze_data[\"response_time\"].mean(),\"hours\""
   ]
  },
  {
   "cell_type": "code",
   "execution_count": 73,
   "metadata": {
    "collapsed": false,
    "slideshow": {
     "slide_type": "skip"
    }
   },
   "outputs": [],
   "source": [
    "d = analyze_data[\"response_time\"]\n",
    "d = d.drop(d.index[892]) # removing anomaly value for better visualization\n",
    "trace = go.Scatter(\n",
    "    name = \"Hours\",\n",
    "    y = d,\n",
    "    mode = 'markers'\n",
    ")\n",
    "layout= go.Layout(\n",
    "    title= 'Response Time',\n",
    "    hovermode= 'closest',\n",
    "    xaxis= dict(\n",
    "        title= 'Index',\n",
    "        ticklen= 5,\n",
    "        zeroline= False,\n",
    "        gridwidth= 2,\n",
    "    ),\n",
    "    yaxis=dict(\n",
    "        title= 'Hours',\n",
    "        ticklen= 5,\n",
    "        gridwidth= 2,\n",
    "    ),\n",
    "    showlegend=True\n",
    ")\n",
    "fig = go.Figure(data=[trace], layout=layout)"
   ]
  },
  {
   "cell_type": "code",
   "execution_count": 74,
   "metadata": {
    "collapsed": false,
    "slideshow": {
     "slide_type": "slide"
    }
   },
   "outputs": [
    {
     "data": {
      "text/html": [
       "<iframe id=\"igraph\" scrolling=\"no\" style=\"border:none;\" seamless=\"seamless\" src=\"https://plot.ly/~surbhi.gupta/18.embed\" height=\"525px\" width=\"100%\"></iframe>"
      ],
      "text/plain": [
       "<plotly.tools.PlotlyDisplay object>"
      ]
     },
     "execution_count": 74,
     "metadata": {},
     "output_type": "execute_result"
    }
   ],
   "source": [
    "py.iplot(fig)"
   ]
  },
  {
   "cell_type": "markdown",
   "metadata": {
    "slideshow": {
     "slide_type": "skip"
    }
   },
   "source": [
    "The response times are usually small "
   ]
  },
  {
   "cell_type": "code",
   "execution_count": 45,
   "metadata": {
    "collapsed": false,
    "slideshow": {
     "slide_type": "slide"
    }
   },
   "outputs": [
    {
     "data": {
      "text/html": [
       "<div>\n",
       "<table border=\"1\" class=\"dataframe\">\n",
       "  <thead>\n",
       "    <tr style=\"text-align: right;\">\n",
       "      <th></th>\n",
       "      <th>Id</th>\n",
       "      <th>q_score</th>\n",
       "      <th>view_count</th>\n",
       "      <th>answer_count</th>\n",
       "      <th>comment_count</th>\n",
       "      <th>response_time</th>\n",
       "    </tr>\n",
       "  </thead>\n",
       "  <tbody>\n",
       "    <tr>\n",
       "      <th>Id</th>\n",
       "      <td>1.000000</td>\n",
       "      <td>-0.139076</td>\n",
       "      <td>-0.140850</td>\n",
       "      <td>-0.345609</td>\n",
       "      <td>0.164619</td>\n",
       "      <td>0.002245</td>\n",
       "    </tr>\n",
       "    <tr>\n",
       "      <th>q_score</th>\n",
       "      <td>-0.139076</td>\n",
       "      <td>1.000000</td>\n",
       "      <td>0.896800</td>\n",
       "      <td>0.465201</td>\n",
       "      <td>0.028034</td>\n",
       "      <td>-0.008628</td>\n",
       "    </tr>\n",
       "    <tr>\n",
       "      <th>view_count</th>\n",
       "      <td>-0.140850</td>\n",
       "      <td>0.896800</td>\n",
       "      <td>1.000000</td>\n",
       "      <td>0.464315</td>\n",
       "      <td>0.031041</td>\n",
       "      <td>-0.010365</td>\n",
       "    </tr>\n",
       "    <tr>\n",
       "      <th>answer_count</th>\n",
       "      <td>-0.345609</td>\n",
       "      <td>0.465201</td>\n",
       "      <td>0.464315</td>\n",
       "      <td>1.000000</td>\n",
       "      <td>0.012539</td>\n",
       "      <td>-0.013839</td>\n",
       "    </tr>\n",
       "    <tr>\n",
       "      <th>comment_count</th>\n",
       "      <td>0.164619</td>\n",
       "      <td>0.028034</td>\n",
       "      <td>0.031041</td>\n",
       "      <td>0.012539</td>\n",
       "      <td>1.000000</td>\n",
       "      <td>0.002252</td>\n",
       "    </tr>\n",
       "    <tr>\n",
       "      <th>response_time</th>\n",
       "      <td>0.002245</td>\n",
       "      <td>-0.008628</td>\n",
       "      <td>-0.010365</td>\n",
       "      <td>-0.013839</td>\n",
       "      <td>0.002252</td>\n",
       "      <td>1.000000</td>\n",
       "    </tr>\n",
       "  </tbody>\n",
       "</table>\n",
       "</div>"
      ],
      "text/plain": [
       "                     Id   q_score  view_count  answer_count  comment_count  \\\n",
       "Id             1.000000 -0.139076   -0.140850     -0.345609       0.164619   \n",
       "q_score       -0.139076  1.000000    0.896800      0.465201       0.028034   \n",
       "view_count    -0.140850  0.896800    1.000000      0.464315       0.031041   \n",
       "answer_count  -0.345609  0.465201    0.464315      1.000000       0.012539   \n",
       "comment_count  0.164619  0.028034    0.031041      0.012539       1.000000   \n",
       "response_time  0.002245 -0.008628   -0.010365     -0.013839       0.002252   \n",
       "\n",
       "               response_time  \n",
       "Id                  0.002245  \n",
       "q_score            -0.008628  \n",
       "view_count         -0.010365  \n",
       "answer_count       -0.013839  \n",
       "comment_count       0.002252  \n",
       "response_time       1.000000  "
      ]
     },
     "execution_count": 45,
     "metadata": {},
     "output_type": "execute_result"
    }
   ],
   "source": [
    "analyze_data.corr()"
   ]
  },
  {
   "cell_type": "markdown",
   "metadata": {
    "slideshow": {
     "slide_type": "slide"
    }
   },
   "source": [
    "## Relation between User Reputation and Response Time"
   ]
  },
  {
   "cell_type": "code",
   "execution_count": 46,
   "metadata": {
    "collapsed": false,
    "slideshow": {
     "slide_type": "skip"
    }
   },
   "outputs": [
    {
     "name": "stdout",
     "output_type": "stream",
     "text": [
      "Id                   int64\n",
      "Reputation           int64\n",
      "CreationDate        object\n",
      "DisplayName         object\n",
      "LastAccessDate      object\n",
      "WebsiteUrl          object\n",
      "Location            object\n",
      "AboutMe             object\n",
      "Views                int64\n",
      "UpVotes              int64\n",
      "DownVotes            int64\n",
      "ProfileImageUrl     object\n",
      "EmailHash          float64\n",
      "Age                float64\n",
      "AccountId            int64\n",
      "dtype: object\n"
     ]
    }
   ],
   "source": [
    "print users.dtypes"
   ]
  },
  {
   "cell_type": "code",
   "execution_count": 50,
   "metadata": {
    "collapsed": false,
    "slideshow": {
     "slide_type": "skip"
    }
   },
   "outputs": [
    {
     "data": {
      "text/plain": [
       "(142, 60)"
      ]
     },
     "execution_count": 50,
     "metadata": {},
     "output_type": "execute_result"
    }
   ],
   "source": [
    "reputation = temp_questions.merge(users, left_on='OwnerUserId_x', right_on='AccountId', how='inner') \n",
    "reputation.shape"
   ]
  },
  {
   "cell_type": "code",
   "execution_count": 53,
   "metadata": {
    "collapsed": false,
    "slideshow": {
     "slide_type": "skip"
    }
   },
   "outputs": [
    {
     "data": {
      "text/plain": [
       "Index([u'Id_x', u'PostTypeId_x', u'AcceptedAnswerId_x', u'ParentId_x',\n",
       "       u'CreationDate_x', u'DeletionDate_x', u'Score_x', u'ViewCount_x',\n",
       "       u'Body_x', u'OwnerUserId_x', u'OwnerDisplayName_x',\n",
       "       u'LastEditorUserId_x', u'LastEditorDisplayName_x', u'LastEditDate_x',\n",
       "       u'LastActivityDate_x', u'Title_x', u'Tags_x', u'AnswerCount_x',\n",
       "       u'CommentCount_x', u'FavoriteCount_x', u'ClosedDate_x',\n",
       "       u'CommunityOwnedDate_x', u'Id_y', u'PostTypeId_y',\n",
       "       u'AcceptedAnswerId_y', u'ParentId_y', u'CreationDate_y',\n",
       "       u'DeletionDate_y', u'Score_y', u'ViewCount_y', u'Body_y',\n",
       "       u'OwnerUserId_y', u'OwnerDisplayName_y', u'LastEditorUserId_y',\n",
       "       u'LastEditorDisplayName_y', u'LastEditDate_y', u'LastActivityDate_y',\n",
       "       u'Title_y', u'Tags_y', u'AnswerCount_y', u'CommentCount_y',\n",
       "       u'FavoriteCount_y', u'ClosedDate_y', u'CommunityOwnedDate_y',\n",
       "       u'Response_Time', u'Id', u'Reputation', u'CreationDate', u'DisplayName',\n",
       "       u'LastAccessDate', u'WebsiteUrl', u'Location', u'AboutMe', u'Views',\n",
       "       u'UpVotes', u'DownVotes', u'ProfileImageUrl', u'EmailHash', u'Age',\n",
       "       u'AccountId'],\n",
       "      dtype='object')"
      ]
     },
     "execution_count": 53,
     "metadata": {},
     "output_type": "execute_result"
    }
   ],
   "source": [
    "reputation.columns"
   ]
  },
  {
   "cell_type": "code",
   "execution_count": 96,
   "metadata": {
    "collapsed": false,
    "slideshow": {
     "slide_type": "skip"
    }
   },
   "outputs": [],
   "source": [
    "d = reputation.copy()\n",
    "d = d.drop(d.index[90])# removing anomaly value for better visualization\n",
    "d = d.drop(d.index[14])\n",
    "trace = go.Scatter(\n",
    "    name = \"Hours\",\n",
    "    x = d[\"Reputation\"],\n",
    "    y = d[\"Response_Time\"],\n",
    "    mode = 'markers'\n",
    ")\n",
    "layout= go.Layout(\n",
    "    title= 'Response Time VS Reputation',\n",
    "    hovermode= 'closest',\n",
    "    xaxis= dict(\n",
    "        title= 'Reputation',\n",
    "        ticklen= 5,\n",
    "        zeroline= False,\n",
    "        gridwidth= 2,\n",
    "    ),\n",
    "    yaxis=dict(\n",
    "        title= 'Hours',\n",
    "        ticklen= 5,\n",
    "        gridwidth= 2,\n",
    "    ),\n",
    "    showlegend=False\n",
    ")\n",
    "fig = go.Figure(data=[trace], layout=layout)"
   ]
  },
  {
   "cell_type": "code",
   "execution_count": 97,
   "metadata": {
    "collapsed": false,
    "slideshow": {
     "slide_type": "slide"
    }
   },
   "outputs": [
    {
     "data": {
      "text/html": [
       "<iframe id=\"igraph\" scrolling=\"no\" style=\"border:none;\" seamless=\"seamless\" src=\"https://plot.ly/~surbhi.gupta/22.embed\" height=\"525px\" width=\"100%\"></iframe>"
      ],
      "text/plain": [
       "<plotly.tools.PlotlyDisplay object>"
      ]
     },
     "execution_count": 97,
     "metadata": {},
     "output_type": "execute_result"
    }
   ],
   "source": [
    "py.iplot(fig)"
   ]
  },
  {
   "cell_type": "code",
   "execution_count": 55,
   "metadata": {
    "collapsed": false,
    "slideshow": {
     "slide_type": "subslide"
    }
   },
   "outputs": [
    {
     "data": {
      "text/html": [
       "<div>\n",
       "<table border=\"1\" class=\"dataframe\">\n",
       "  <thead>\n",
       "    <tr style=\"text-align: right;\">\n",
       "      <th></th>\n",
       "      <th>Response_Time</th>\n",
       "      <th>Reputation</th>\n",
       "    </tr>\n",
       "  </thead>\n",
       "  <tbody>\n",
       "    <tr>\n",
       "      <th>Response_Time</th>\n",
       "      <td>1.000000</td>\n",
       "      <td>0.007904</td>\n",
       "    </tr>\n",
       "    <tr>\n",
       "      <th>Reputation</th>\n",
       "      <td>0.007904</td>\n",
       "      <td>1.000000</td>\n",
       "    </tr>\n",
       "  </tbody>\n",
       "</table>\n",
       "</div>"
      ],
      "text/plain": [
       "               Response_Time  Reputation\n",
       "Response_Time       1.000000    0.007904\n",
       "Reputation          0.007904    1.000000"
      ]
     },
     "execution_count": 55,
     "metadata": {},
     "output_type": "execute_result"
    }
   ],
   "source": [
    "reputation.ix[:,[44,46]].corr()"
   ]
  },
  {
   "cell_type": "markdown",
   "metadata": {
    "slideshow": {
     "slide_type": "slide"
    }
   },
   "source": [
    "### Relation between Tag Popularity and Response Time "
   ]
  },
  {
   "cell_type": "code",
   "execution_count": 79,
   "metadata": {
    "collapsed": false,
    "slideshow": {
     "slide_type": "slide"
    }
   },
   "outputs": [
    {
     "data": {
      "text/html": [
       "<div>\n",
       "<table border=\"1\" class=\"dataframe\">\n",
       "  <thead>\n",
       "    <tr style=\"text-align: right;\">\n",
       "      <th></th>\n",
       "      <th>Id</th>\n",
       "      <th>TagName</th>\n",
       "      <th>Count</th>\n",
       "      <th>ExcerptPostId</th>\n",
       "      <th>WikiPostId</th>\n",
       "    </tr>\n",
       "  </thead>\n",
       "  <tbody>\n",
       "    <tr>\n",
       "      <th>0</th>\n",
       "      <td>74890</td>\n",
       "      <td>canonical-quickly</td>\n",
       "      <td>35</td>\n",
       "      <td>8160301.0</td>\n",
       "      <td>8160300.0</td>\n",
       "    </tr>\n",
       "    <tr>\n",
       "      <th>1</th>\n",
       "      <td>74892</td>\n",
       "      <td>path-iterator</td>\n",
       "      <td>8</td>\n",
       "      <td>NaN</td>\n",
       "      <td>NaN</td>\n",
       "    </tr>\n",
       "    <tr>\n",
       "      <th>2</th>\n",
       "      <td>74895</td>\n",
       "      <td>multidrop-bus</td>\n",
       "      <td>7</td>\n",
       "      <td>18912141.0</td>\n",
       "      <td>18912140.0</td>\n",
       "    </tr>\n",
       "    <tr>\n",
       "      <th>3</th>\n",
       "      <td>74896</td>\n",
       "      <td>detailview</td>\n",
       "      <td>192</td>\n",
       "      <td>36773157.0</td>\n",
       "      <td>36773156.0</td>\n",
       "    </tr>\n",
       "    <tr>\n",
       "      <th>4</th>\n",
       "      <td>74901</td>\n",
       "      <td>apache-tomee</td>\n",
       "      <td>109</td>\n",
       "      <td>8165096.0</td>\n",
       "      <td>8165095.0</td>\n",
       "    </tr>\n",
       "  </tbody>\n",
       "</table>\n",
       "</div>"
      ],
      "text/plain": [
       "      Id            TagName  Count  ExcerptPostId  WikiPostId\n",
       "0  74890  canonical-quickly     35      8160301.0   8160300.0\n",
       "1  74892      path-iterator      8            NaN         NaN\n",
       "2  74895      multidrop-bus      7     18912141.0  18912140.0\n",
       "3  74896         detailview    192     36773157.0  36773156.0\n",
       "4  74901       apache-tomee    109      8165096.0   8165095.0"
      ]
     },
     "execution_count": 79,
     "metadata": {},
     "output_type": "execute_result"
    }
   ],
   "source": [
    "tags.head()"
   ]
  },
  {
   "cell_type": "code",
   "execution_count": 80,
   "metadata": {
    "collapsed": false,
    "slideshow": {
     "slide_type": "fragment"
    }
   },
   "outputs": [
    {
     "data": {
      "text/plain": [
       "(47207, 5)"
      ]
     },
     "execution_count": 80,
     "metadata": {},
     "output_type": "execute_result"
    }
   ],
   "source": [
    "tags.shape"
   ]
  },
  {
   "cell_type": "code",
   "execution_count": 81,
   "metadata": {
    "collapsed": false,
    "slideshow": {
     "slide_type": "skip"
    }
   },
   "outputs": [
    {
     "data": {
      "text/html": [
       "<div>\n",
       "<table border=\"1\" class=\"dataframe\">\n",
       "  <thead>\n",
       "    <tr style=\"text-align: right;\">\n",
       "      <th></th>\n",
       "      <th>Id</th>\n",
       "      <th>Tags</th>\n",
       "      <th>Response_Time</th>\n",
       "    </tr>\n",
       "  </thead>\n",
       "  <tbody>\n",
       "    <tr>\n",
       "      <th>0</th>\n",
       "      <td>32719590</td>\n",
       "      <td>&lt;sql&gt;&lt;sql-server&gt;&lt;join&gt;&lt;subquery&gt;</td>\n",
       "      <td>0.042500</td>\n",
       "    </tr>\n",
       "    <tr>\n",
       "      <th>1</th>\n",
       "      <td>32719623</td>\n",
       "      <td>&lt;javascript&gt;&lt;jquery&gt;&lt;css&gt;</td>\n",
       "      <td>0.078056</td>\n",
       "    </tr>\n",
       "    <tr>\n",
       "      <th>2</th>\n",
       "      <td>17537590</td>\n",
       "      <td>&lt;c++&gt;</td>\n",
       "      <td>0.082500</td>\n",
       "    </tr>\n",
       "    <tr>\n",
       "      <th>3</th>\n",
       "      <td>17537613</td>\n",
       "      <td>&lt;python&gt;&lt;python-2.7&gt;&lt;numpy&gt;&lt;numerical&gt;&lt;fractions&gt;</td>\n",
       "      <td>0.045278</td>\n",
       "    </tr>\n",
       "    <tr>\n",
       "      <th>4</th>\n",
       "      <td>17537620</td>\n",
       "      <td>&lt;asp.net&gt;</td>\n",
       "      <td>0.087500</td>\n",
       "    </tr>\n",
       "  </tbody>\n",
       "</table>\n",
       "</div>"
      ],
      "text/plain": [
       "         Id                                               Tags  Response_Time\n",
       "0  32719590                  <sql><sql-server><join><subquery>       0.042500\n",
       "1  32719623                          <javascript><jquery><css>       0.078056\n",
       "2  17537590                                              <c++>       0.082500\n",
       "3  17537613  <python><python-2.7><numpy><numerical><fractions>       0.045278\n",
       "4  17537620                                          <asp.net>       0.087500"
      ]
     },
     "execution_count": 81,
     "metadata": {},
     "output_type": "execute_result"
    }
   ],
   "source": [
    "popularity = temp_questions.ix[:,[0,16,44]]\n",
    "popularity.columns = [\"Id\",\"Tags\",\"Response_Time\"]\n",
    "popularity.head()"
   ]
  },
  {
   "cell_type": "code",
   "execution_count": 90,
   "metadata": {
    "collapsed": false,
    "slideshow": {
     "slide_type": "skip"
    }
   },
   "outputs": [],
   "source": [
    "tags = tags.dropna()"
   ]
  },
  {
   "cell_type": "code",
   "execution_count": null,
   "metadata": {
    "collapsed": false,
    "slideshow": {
     "slide_type": "skip"
    }
   },
   "outputs": [],
   "source": [
    "temp_tag = tags[\"TagName\"]\n",
    "for index,row in popularity.iterrows():\n",
    "    t = questions_text.loc[index,\"Tags\"]\n",
    "    tag_list = t.split(\"<\")\n",
    "    tag_list = \"\".join([word for word in tag_list]).split(\">\")\n",
    "    tag_list = filter(None, tag_list)\n",
    "    tag_popularity = []\n",
    "    for tag in temp_tag:\n",
    "        if str(tag) in tag_list:\n",
    "            temp_row = tags[(tags[\"TagName\"]==tag)]\n",
    "            if len(temp_row[\"Count\"]) < 1:\n",
    "                temp_row[\"Count\"] = 0\n",
    "            tag_popularity.append(int(temp_row[\"Count\"]))\n",
    "    a = pd.DataFrame(tag_popularity)\n",
    "    popularity.loc[index,\"Popularity_Score\"] = int(a.max())"
   ]
  },
  {
   "cell_type": "code",
   "execution_count": 92,
   "metadata": {
    "collapsed": false,
    "slideshow": {
     "slide_type": "skip"
    }
   },
   "outputs": [
    {
     "data": {
      "text/html": [
       "<div>\n",
       "<table border=\"1\" class=\"dataframe\">\n",
       "  <thead>\n",
       "    <tr style=\"text-align: right;\">\n",
       "      <th></th>\n",
       "      <th>Id</th>\n",
       "      <th>Tags</th>\n",
       "      <th>Response_Time</th>\n",
       "      <th>Popularity_Score</th>\n",
       "    </tr>\n",
       "  </thead>\n",
       "  <tbody>\n",
       "    <tr>\n",
       "      <th>0</th>\n",
       "      <td>32719590</td>\n",
       "      <td>&lt;sql&gt;&lt;sql-server&gt;&lt;join&gt;&lt;subquery&gt;</td>\n",
       "      <td>0.042500</td>\n",
       "      <td>360145.0</td>\n",
       "    </tr>\n",
       "    <tr>\n",
       "      <th>1</th>\n",
       "      <td>32719623</td>\n",
       "      <td>&lt;javascript&gt;&lt;jquery&gt;&lt;css&gt;</td>\n",
       "      <td>0.078056</td>\n",
       "      <td>1264314.0</td>\n",
       "    </tr>\n",
       "    <tr>\n",
       "      <th>2</th>\n",
       "      <td>17537590</td>\n",
       "      <td>&lt;c++&gt;</td>\n",
       "      <td>0.082500</td>\n",
       "      <td>483603.0</td>\n",
       "    </tr>\n",
       "    <tr>\n",
       "      <th>3</th>\n",
       "      <td>17537613</td>\n",
       "      <td>&lt;python&gt;&lt;python-2.7&gt;&lt;numpy&gt;&lt;numerical&gt;&lt;fractions&gt;</td>\n",
       "      <td>0.045278</td>\n",
       "      <td>662794.0</td>\n",
       "    </tr>\n",
       "    <tr>\n",
       "      <th>4</th>\n",
       "      <td>17537620</td>\n",
       "      <td>&lt;asp.net&gt;</td>\n",
       "      <td>0.087500</td>\n",
       "      <td>303911.0</td>\n",
       "    </tr>\n",
       "  </tbody>\n",
       "</table>\n",
       "</div>"
      ],
      "text/plain": [
       "         Id                                               Tags  Response_Time  \\\n",
       "0  32719590                  <sql><sql-server><join><subquery>       0.042500   \n",
       "1  32719623                          <javascript><jquery><css>       0.078056   \n",
       "2  17537590                                              <c++>       0.082500   \n",
       "3  17537613  <python><python-2.7><numpy><numerical><fractions>       0.045278   \n",
       "4  17537620                                          <asp.net>       0.087500   \n",
       "\n",
       "   Popularity_Score  \n",
       "0          360145.0  \n",
       "1         1264314.0  \n",
       "2          483603.0  \n",
       "3          662794.0  \n",
       "4          303911.0  "
      ]
     },
     "execution_count": 92,
     "metadata": {},
     "output_type": "execute_result"
    }
   ],
   "source": [
    "popularity.head()"
   ]
  },
  {
   "cell_type": "code",
   "execution_count": 93,
   "metadata": {
    "collapsed": false,
    "slideshow": {
     "slide_type": "skip"
    }
   },
   "outputs": [],
   "source": [
    "trace = go.Scatter(\n",
    "    name = \"Hours\",\n",
    "    y = popularity[\"Response_Time\"],\n",
    "    x = popularity[\"Popularity_Score\"],\n",
    "    mode = 'markers'\n",
    ")\n",
    "layout= go.Layout(\n",
    "    title= 'Response Time VS Tag Popularity',\n",
    "    hovermode= 'closest',\n",
    "    xaxis= dict(\n",
    "        title= 'Popularity',\n",
    "        ticklen= 5,\n",
    "        zeroline= False,\n",
    "        gridwidth= 2,\n",
    "    ),\n",
    "    yaxis=dict(\n",
    "        title= 'Hours',\n",
    "        ticklen= 5,\n",
    "        gridwidth= 2,\n",
    "    ),\n",
    "    showlegend=False\n",
    ")\n",
    "fig = go.Figure(data=[trace], layout=layout)"
   ]
  },
  {
   "cell_type": "code",
   "execution_count": 94,
   "metadata": {
    "collapsed": false,
    "slideshow": {
     "slide_type": "slide"
    }
   },
   "outputs": [
    {
     "data": {
      "text/html": [
       "<iframe id=\"igraph\" scrolling=\"no\" style=\"border:none;\" seamless=\"seamless\" src=\"https://plot.ly/~surbhi.gupta/20.embed\" height=\"525px\" width=\"100%\"></iframe>"
      ],
      "text/plain": [
       "<plotly.tools.PlotlyDisplay object>"
      ]
     },
     "execution_count": 94,
     "metadata": {},
     "output_type": "execute_result"
    }
   ],
   "source": [
    "py.iplot(fig)"
   ]
  },
  {
   "cell_type": "code",
   "execution_count": 95,
   "metadata": {
    "collapsed": false,
    "slideshow": {
     "slide_type": "subslide"
    }
   },
   "outputs": [
    {
     "data": {
      "text/html": [
       "<div>\n",
       "<table border=\"1\" class=\"dataframe\">\n",
       "  <thead>\n",
       "    <tr style=\"text-align: right;\">\n",
       "      <th></th>\n",
       "      <th>Id</th>\n",
       "      <th>Response_Time</th>\n",
       "      <th>Popularity_Score</th>\n",
       "    </tr>\n",
       "  </thead>\n",
       "  <tbody>\n",
       "    <tr>\n",
       "      <th>Id</th>\n",
       "      <td>1.000000</td>\n",
       "      <td>0.002245</td>\n",
       "      <td>0.168440</td>\n",
       "    </tr>\n",
       "    <tr>\n",
       "      <th>Response_Time</th>\n",
       "      <td>0.002245</td>\n",
       "      <td>1.000000</td>\n",
       "      <td>-0.020338</td>\n",
       "    </tr>\n",
       "    <tr>\n",
       "      <th>Popularity_Score</th>\n",
       "      <td>0.168440</td>\n",
       "      <td>-0.020338</td>\n",
       "      <td>1.000000</td>\n",
       "    </tr>\n",
       "  </tbody>\n",
       "</table>\n",
       "</div>"
      ],
      "text/plain": [
       "                        Id  Response_Time  Popularity_Score\n",
       "Id                1.000000       0.002245          0.168440\n",
       "Response_Time     0.002245       1.000000         -0.020338\n",
       "Popularity_Score  0.168440      -0.020338          1.000000"
      ]
     },
     "execution_count": 95,
     "metadata": {},
     "output_type": "execute_result"
    }
   ],
   "source": [
    "popularity.corr()"
   ]
  },
  {
   "cell_type": "markdown",
   "metadata": {
    "slideshow": {
     "slide_type": "slide"
    }
   },
   "source": [
    "# Packages Used\n",
    "1. pandas\n",
    "2. numpy\n",
    "3. scikit-learn\n",
    "4. rake\n",
    "5. nltk\n",
    "6. plotly\n",
    "7. rise \n",
    "\n"
   ]
  },
  {
   "cell_type": "markdown",
   "metadata": {
    "slideshow": {
     "slide_type": "slide"
    }
   },
   "source": [
    "# Take Away\n",
    "1. Simple Word Frequency Model was better at predicting tags\n",
    "2. Title was a better indicator of tags than Body\n",
    "3. View Count, Answer Count and Tag Popularity have negative correlation with Response Time \n",
    "4. User Reputation has positive correlation with Response Time\n"
   ]
  },
  {
   "cell_type": "markdown",
   "metadata": {
    "collapsed": true,
    "slideshow": {
     "slide_type": "slide"
    }
   },
   "source": [
    "# Thank You"
   ]
  }
 ],
 "metadata": {
  "celltoolbar": "Slideshow",
  "kernelspec": {
   "display_name": "Python 3",
   "language": "python",
   "name": "python3"
  },
  "language_info": {
   "codemirror_mode": {
    "name": "ipython",
    "version": 3
   },
   "file_extension": ".py",
   "mimetype": "text/x-python",
   "name": "python",
   "nbconvert_exporter": "python",
   "pygments_lexer": "ipython3",
   "version": "3.5.1"
  }
 },
 "nbformat": 4,
 "nbformat_minor": 1
}
